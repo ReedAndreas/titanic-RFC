{
 "cells": [
  {
   "cell_type": "code",
   "execution_count": 6,
   "metadata": {},
   "outputs": [],
   "source": [
    "import numpy as np\n",
    "import pandas as pd\n",
    "import plotly.express as px\n",
    "from jupyter_dash import JupyterDash\n",
    "import dash_core_components as dcc\n",
    "import dash_html_components as html\n",
    "from dash.dependencies import Input, Output\n",
    "from dash.exceptions import PreventUpdate\n",
    "import joblib"
   ]
  },
  {
   "cell_type": "code",
   "execution_count": 7,
   "metadata": {},
   "outputs": [],
   "source": [
    "model = joblib.load('./random_forest.joblib')"
   ]
  },
  {
   "cell_type": "code",
   "execution_count": 8,
   "metadata": {},
   "outputs": [],
   "source": [
    "df = px.data.tips()"
   ]
  },
  {
   "cell_type": "code",
   "execution_count": 9,
   "metadata": {},
   "outputs": [],
   "source": [
    "# Build App\n",
    "app = JupyterDash(__name__)\n",
    "app.layout = html.Div([\n",
    "    html.H1(\"Classification Demo\"),\n",
    "        html.Label(\"Age\"),\n",
    "        dcc.Slider(\n",
    "            id = 'age_slider',\n",
    "            min = 0,\n",
    "            max = 100,\n",
    "            value = 30,\n",
    "            step = 5,\n",
    "            marks = {i: str(i) for i in range(10,101,10)},\n",
    "    ),\n",
    "    html.Label(\"Gender\"),\n",
    "    dcc.RadioItems(\n",
    "    id = 'gender_picker',\n",
    "    options=[\n",
    "        {'label': 'Male', 'value': 'm'},\n",
    "        {'label': 'Female', 'value': 'f'},\n",
    "    ]),\n",
    "    html.Label(\"Fare\"),\n",
    "            dcc.Slider(\n",
    "            id = 'fare_slider',\n",
    "            min = 0,\n",
    "            max = 100,\n",
    "            value = 30,\n",
    "            step = 5,\n",
    "            marks = {i: str(i) for i in range(10,101,10)},\n",
    "    ),\n",
    "    html.Label(\"Room Class\"),\n",
    "    dcc.RadioItems(\n",
    "    id = 'class_picker',\n",
    "    options=[\n",
    "        {'label': '1', 'value': '1'},\n",
    "        {'label': '2', 'value': '2'},\n",
    "        {'label': '3', 'value': '3'},\n",
    "    ]),\n",
    "    html.Label(\"Title\"),\n",
    "    dcc.RadioItems(\n",
    "    id = 'title_picker',\n",
    "    options=[\n",
    "        {'label': 'Mr.', 'value': 'Mr'},\n",
    "        {'label': 'Mrs', 'value': 'Mrs'},\n",
    "        {'label': 'Miss', 'value': 'Miss'},\n",
    "        {'label': 'Master', 'value': 'Master'},\n",
    "        {'label': 'Other', 'value': 'Other'},\n",
    "    ]),\n",
    "    dcc.Graph(id='graph'),\n",
    "])\n",
    "# Define callback to update graph\n",
    "@app.callback(\n",
    "    Output('graph', 'figure'),\n",
    "    [Input('age_slider', 'value'),\n",
    "    Input('gender_picker', 'value'),\n",
    "    Input('fare_slider', 'value'),\n",
    "    Input('class_picker', 'value'),\n",
    "    Input('title_picker', 'value')]\n",
    ")\n",
    "def update_figure(age, gender, fare, class_val, title):\n",
    "    \n",
    "    #dont update if fields not filled in\n",
    "    if gender == None or class_val == None or title == None:\n",
    "        raise PreventUpdate\n",
    "    else:\n",
    "        values_dict = {'Pclass': 0, 'Age': 0, 'Fare': 0, 'male': 0, 'Miss': 0, 'Mr': 0, 'Mrs': 0, 'Other': 0}\n",
    "\n",
    "        #update info\n",
    "        values_dict['Pclass'] = class_val\n",
    "\n",
    "        values_dict['Age'] = age\n",
    "\n",
    "        values_dict['Fare'] = fare\n",
    "\n",
    "        if gender == 'm':\n",
    "            values_dict['male'] = 1.0\n",
    "\n",
    "        if title != 'Master':\n",
    "            values_dict[title] = 1\n",
    "\n",
    "        sample_df = pd.DataFrame(values_dict, index = [0])\n",
    "        \n",
    "        vals = list(model.predict_proba(np.array(sample_df).reshape(1,-1))[0])\n",
    "        \n",
    "        graph_df = pd.DataFrame({'Categories':['Did not Survive' , 'Did Survive'], 'Probability':[vals[0], vals[1]]})\n",
    "\n",
    "        return px.bar(graph_df, x='Categories', y='Probability', range_y = [-0.1,2])\n",
    "        \n",
    "        \n",
    "    "
   ]
  },
  {
   "cell_type": "code",
   "execution_count": 10,
   "metadata": {},
   "outputs": [
    {
     "data": {
      "text/html": [
       "\n",
       "        <iframe\n",
       "            width=\"100%\"\n",
       "            height=\"650\"\n",
       "            src=\"http://127.0.0.1:8050/\"\n",
       "            frameborder=\"0\"\n",
       "            allowfullscreen\n",
       "        ></iframe>\n",
       "        "
      ],
      "text/plain": [
       "<IPython.lib.display.IFrame at 0x7fa49dbc38d0>"
      ]
     },
     "metadata": {},
     "output_type": "display_data"
    }
   ],
   "source": [
    "# Run app and display result inline in the notebook\n",
    "app.run_server(mode='inline')"
   ]
  },
  {
   "cell_type": "code",
   "execution_count": null,
   "metadata": {},
   "outputs": [],
   "source": []
  },
  {
   "cell_type": "code",
   "execution_count": null,
   "metadata": {},
   "outputs": [],
   "source": []
  },
  {
   "cell_type": "code",
   "execution_count": null,
   "metadata": {},
   "outputs": [],
   "source": []
  },
  {
   "cell_type": "code",
   "execution_count": null,
   "metadata": {},
   "outputs": [],
   "source": []
  }
 ],
 "metadata": {
  "kernelspec": {
   "display_name": "Python 3",
   "language": "python",
   "name": "python3"
  },
  "language_info": {
   "codemirror_mode": {
    "name": "ipython",
    "version": 3
   },
   "file_extension": ".py",
   "mimetype": "text/x-python",
   "name": "python",
   "nbconvert_exporter": "python",
   "pygments_lexer": "ipython3",
   "version": "3.7.2"
  }
 },
 "nbformat": 4,
 "nbformat_minor": 4
}
